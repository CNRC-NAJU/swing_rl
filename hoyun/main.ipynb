{
 "cells": [
  {
   "cell_type": "code",
   "execution_count": 1,
   "metadata": {},
   "outputs": [],
   "source": [
    "import matplotlib.pyplot as plt\n",
    "import networkx as nx\n",
    "import numpy as np\n",
    "import numpy.typing as npt\n",
    "import torch\n",
    "from stable_baselines3.common.env_checker import check_env\n",
    "from stable_baselines3.ppo.ppo import PPO\n",
    "\n",
    "from agent import GraphExtractor\n",
    "from graph import get_ba\n",
    "from graph.utils import get_edge_list, directed2undirected\n",
    "from swing_data import SwingData\n",
    "from swing_env import SwingEnv"
   ]
  },
  {
   "cell_type": "code",
   "execution_count": 2,
   "metadata": {},
   "outputs": [],
   "source": [
    "num_nodes = 20\n",
    "mean_degree = 4.0\n",
    "random_engine = np.random.default_rng(42)\n",
    "precision = np.float32\n",
    "\n",
    "# Network\n",
    "g = get_ba(num_nodes, mean_degree)\n",
    "num_edges = g.number_of_edges()\n",
    "edge_list = get_edge_list(g)\n",
    "weights = np.ones(num_edges, dtype=precision)\n",
    "\n",
    "\n",
    "# Swing parameters\n",
    "phase = random_engine.uniform(0, 2 * np.pi, num_nodes).astype(precision, copy=False)\n",
    "power = np.array([1] * int(num_nodes / 2) + [-1] * int(num_nodes / 2), dtype=precision)\n",
    "random_engine.shuffle(power)\n",
    "gamma = np.ones(num_nodes, dtype=precision)\n",
    "mass = np.ones(num_nodes, dtype=precision)\n",
    "dt = 0.001\n",
    "\n",
    "swing_data = SwingData(\n",
    "    edge_list=edge_list,\n",
    "    phase=phase,\n",
    "    dphase=np.zeros_like(phase),\n",
    "    coupling=weights,\n",
    "    power=power,\n",
    "    gamma=gamma,\n",
    "    mass=mass,\n",
    ")"
   ]
  },
  {
   "cell_type": "code",
   "execution_count": 3,
   "metadata": {},
   "outputs": [],
   "source": [
    "# RL environment\n",
    "swing_env = SwingEnv(swing_data, dt, equilibrium_step = 123)\n",
    "check_env(swing_env)\n"
   ]
  },
  {
   "cell_type": "code",
   "execution_count": 4,
   "metadata": {},
   "outputs": [
    {
     "name": "stdout",
     "output_type": "stream",
     "text": [
      "Using cuda:0 device\n",
      "Wrapping the env with a `Monitor` wrapper\n",
      "Wrapping the env in a DummyVecEnv.\n",
      "---------------------------------\n",
      "| rollout/           |          |\n",
      "|    ep_len_mean     | 8.86     |\n",
      "|    ep_rew_mean     | 8.57     |\n",
      "| time/              |          |\n",
      "|    fps             | 27       |\n",
      "|    iterations      | 1        |\n",
      "|    time_elapsed    | 4        |\n",
      "|    total_timesteps | 128      |\n",
      "---------------------------------\n",
      "-----------------------------------------\n",
      "| rollout/                |             |\n",
      "|    ep_len_mean          | 8.72        |\n",
      "|    ep_rew_mean          | 8.59        |\n",
      "| time/                   |             |\n",
      "|    fps                  | 45          |\n",
      "|    iterations           | 2           |\n",
      "|    time_elapsed         | 5           |\n",
      "|    total_timesteps      | 256         |\n",
      "| train/                  |             |\n",
      "|    approx_kl            | 0.021682382 |\n",
      "|    clip_fraction        | 0.152       |\n",
      "|    clip_range           | 0.2         |\n",
      "|    entropy_loss         | -28.4       |\n",
      "|    explained_variance   | 0.0107      |\n",
      "|    learning_rate        | 0.0003      |\n",
      "|    loss                 | 3.58        |\n",
      "|    n_updates            | 10          |\n",
      "|    policy_gradient_loss | -0.0494     |\n",
      "|    std                  | 1           |\n",
      "|    value_loss           | 13.3        |\n",
      "-----------------------------------------\n",
      "-----------------------------------------\n",
      "| rollout/                |             |\n",
      "|    ep_len_mean          | 8.7         |\n",
      "|    ep_rew_mean          | 8.61        |\n",
      "| time/                   |             |\n",
      "|    fps                  | 58          |\n",
      "|    iterations           | 3           |\n",
      "|    time_elapsed         | 6           |\n",
      "|    total_timesteps      | 384         |\n",
      "| train/                  |             |\n",
      "|    approx_kl            | 0.030232193 |\n",
      "|    clip_fraction        | 0.247       |\n",
      "|    clip_range           | 0.2         |\n",
      "|    entropy_loss         | -28.4       |\n",
      "|    explained_variance   | -0.0332     |\n",
      "|    learning_rate        | 0.0003      |\n",
      "|    loss                 | 2.44        |\n",
      "|    n_updates            | 20          |\n",
      "|    policy_gradient_loss | -0.0384     |\n",
      "|    std                  | 1           |\n",
      "|    value_loss           | 5.78        |\n",
      "-----------------------------------------\n"
     ]
    },
    {
     "data": {
      "text/plain": [
       "<stable_baselines3.ppo.ppo.PPO at 0x7fcb54122320>"
      ]
     },
     "execution_count": 4,
     "metadata": {},
     "output_type": "execute_result"
    }
   ],
   "source": [
    "# torch_geometric\n",
    "device = torch.device(\"cuda:0\")\n",
    "\n",
    "edge_index = directed2undirected(edge_list, device)  # (2, E)\n",
    "edge_attr = torch.unsqueeze(\n",
    "    torch.tensor(np.concatenate([weights, weights]), device=device), -1\n",
    ")  # (E, 1)\n",
    "\n",
    "policy_kwargs = {\n",
    "    \"features_extractor_class\": GraphExtractor,\n",
    "    \"features_extractor_kwargs\": {\n",
    "        \"edge_index\": edge_index,\n",
    "        \"edge_attr\": edge_attr,\n",
    "        \"hidden_dim\": 16,\n",
    "    },\n",
    "}\n",
    "model = PPO(\n",
    "    \"MultiInputPolicy\",\n",
    "    swing_env,\n",
    "    policy_kwargs=policy_kwargs,\n",
    "    verbose=2,\n",
    "    device=device,\n",
    "    n_steps=128,\n",
    ")\n",
    "\n",
    "# model.get_parameters()\n",
    "model.learn(total_timesteps=128 * 3)"
   ]
  },
  {
   "cell_type": "code",
   "execution_count": 5,
   "metadata": {},
   "outputs": [],
   "source": [
    "# model.predict()"
   ]
  }
 ],
 "metadata": {
  "kernelspec": {
   "display_name": "rl",
   "language": "python",
   "name": "python3"
  },
  "language_info": {
   "codemirror_mode": {
    "name": "ipython",
    "version": 3
   },
   "file_extension": ".py",
   "mimetype": "text/x-python",
   "name": "python",
   "nbconvert_exporter": "python",
   "pygments_lexer": "ipython3",
   "version": "3.10.10"
  },
  "orig_nbformat": 4,
  "vscode": {
   "interpreter": {
    "hash": "f4f26a53cbf74815b49292b87a256fbb46bae8ae5e1a00cdbd9c6a6050cd2ff5"
   }
  }
 },
 "nbformat": 4,
 "nbformat_minor": 2
}
