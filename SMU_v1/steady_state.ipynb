{
 "cells": [
  {
   "cell_type": "code",
   "execution_count": null,
   "metadata": {},
   "outputs": [],
   "source": [
    "import matplotlib.pyplot as plt\n",
    "import numpy as np\n",
    "import numpy.typing as npt\n",
    "from config import RLConfig, SwingConfig\n",
    "from environment.grid import Grid\n",
    "from environment.swing.solver import swing_solver\n",
    "from environment.trajectory import is_stable\n"
   ]
  },
  {
   "cell_type": "code",
   "execution_count": null,
   "metadata": {},
   "outputs": [],
   "source": [
    "def find_steady_state(\n",
    "    grid: Grid, rng: np.random.Generator\n",
    ") -> list[npt.NDArray[np.float32]]:\n",
    "    \"\"\"Find random initial state of given grid.\n",
    "    Args\n",
    "        grid: In which grid to find initial state\n",
    "        rng: used for initializing random phase\n",
    "    Return\n",
    "        phase: [N, ] phase of each node in (-pi, pi]\n",
    "        dphase: [N, ] dphase (angular frequency) of each node\n",
    "    \"\"\"\n",
    "\n",
    "    # Initial random state\n",
    "    # phase = rng.uniform(-np.pi, np.pi, grid.num_nodes).astype(np.float32)\n",
    "    phase = np.zeros(grid.num_nodes, dtype=np.float32)\n",
    "    dphase = np.zeros_like(phase)\n",
    "\n",
    "    dphases = []\n",
    "\n",
    "    # Run swing equation until reaching steady time\n",
    "    time = 0.0\n",
    "    solver = swing_solver(grid.weighted_adjacency_matrix, grid.params)\n",
    "    while time < RLConfig.steady_time:\n",
    "        time += SwingConfig._dt\n",
    "        phase, dphase = solver(phase=phase, dphase=dphase)\n",
    "        dphases.append(dphase)\n",
    "        if is_stable(dphase):\n",
    "            break\n",
    "\n",
    "    return dphases\n",
    "\n",
    "grid = Grid(rng=0)\n"
   ]
  },
  {
   "cell_type": "code",
   "execution_count": null,
   "metadata": {},
   "outputs": [],
   "source": [
    "# grid.reset_nodes()\n",
    "# grid.reset_node_types()\n",
    "# grid.reset_graph()\n",
    "\n",
    "grid.info()\n",
    "\n",
    "dphases = np.stack(find_steady_state(grid, grid.rng))\n",
    "time = np.arange(0.0, RLConfig.steady_time, SwingConfig._dt)\n",
    "print(\n",
    "    f\"Steady at t={len(dphases) * SwingConfig._dt}, max_dphase={np.abs(dphases[-1]).max()}\"\n",
    ")\n",
    "\n",
    "for i, dphase in enumerate(dphases.T):\n",
    "    plt.plot(time[: len(dphase)], dphase, label=i)\n",
    "plt.legend()\n",
    "plt.xlim(0, time[-1])\n",
    "plt.show()"
   ]
  }
 ],
 "metadata": {
  "language_info": {
   "name": "python"
  },
  "orig_nbformat": 4
 },
 "nbformat": 4,
 "nbformat_minor": 2
}
