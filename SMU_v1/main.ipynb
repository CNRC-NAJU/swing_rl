{
 "cells": [
  {
   "cell_type": "code",
   "execution_count": 1,
   "metadata": {},
   "outputs": [],
   "source": [
    "from typing import cast\n",
    "\n",
    "import numpy as np\n",
    "import torch\n",
    "from agent.graph_extractor import GraphExtractor\n",
    "from environment.environment import Environment\n",
    "from environment.grid import Grid\n",
    "from stable_baselines3 import PPO\n",
    "from stable_baselines3.common.env_checker import check_env\n",
    "from torch_geometric.nn import summary"
   ]
  },
  {
   "cell_type": "code",
   "execution_count": null,
   "metadata": {},
   "outputs": [
    {
     "name": "stdout",
     "output_type": "stream",
     "text": [
      "Using cuda:3 device\n",
      "Wrapping the env with a `Monitor` wrapper\n",
      "Wrapping the env in a DummyVecEnv.\n"
     ]
    }
   ],
   "source": [
    "device = torch.device(\"cuda:3\")\n",
    "rng = np.random.default_rng(0)\n",
    "\n",
    "grid = Grid(rng=rng)\n",
    "env = Environment(grid, rng=rng)\n",
    "# check_env(env)\n",
    "\n",
    "policy_kwargs = {\"features_extractor_class\": GraphExtractor}\n",
    "model = PPO(\n",
    "    \"MultiInputPolicy\",\n",
    "    env,\n",
    "    policy_kwargs=policy_kwargs,\n",
    "    verbose=2,\n",
    "    device=device,\n",
    "    n_steps=1280,\n",
    ")\n"
   ]
  },
  {
   "cell_type": "code",
   "execution_count": null,
   "metadata": {},
   "outputs": [
    {
     "name": "stdout",
     "output_type": "stream",
     "text": [
      "+----------------------------+-------------------+----------------+----------+\n",
      "| Layer                      | Input Shape       | Output Shape   | #Param   |\n",
      "|----------------------------+-------------------+----------------+----------|\n",
      "| GraphExtractor             |                   | [1, 640]       | 9,001    |\n",
      "| ├─(node_type)Embedding     | [1, 10]           | [1, 10, 8]     | 32       |\n",
      "| ├─(phase)MLP               | [1, 10, 2]        | [1, 10, 8]     | 96       |\n",
      "| │    └─(mlp)Sequential     | [1, 10, 2]        | [1, 10, 8]     | 96       |\n",
      "| │    │    └─(0)Linear      | [1, 10, 2]        | [1, 10, 8]     | 24       |\n",
      "| │    │    └─(1)Identity    | [1, 10, 8]        | [1, 10, 8]     | --       |\n",
      "| │    │    └─(2)ELU         | [1, 10, 8]        | [1, 10, 8]     | --       |\n",
      "| │    │    └─(3)Identity    | [1, 10, 8]        | [1, 10, 8]     | --       |\n",
      "| │    │    └─(4)Linear      | [1, 10, 8]        | [1, 10, 8]     | 72       |\n",
      "| │    │    └─(5)Identity    | [1, 10, 8]        | [1, 10, 8]     | --       |\n",
      "| │    │    └─(6)ELU         | [1, 10, 8]        | [1, 10, 8]     | --       |\n",
      "| │    │    └─(7)Identity    | [1, 10, 8]        | [1, 10, 8]     | --       |\n",
      "| ├─(dphase)MLP              | [1, 10, 1]        | [1, 10, 8]     | 88       |\n",
      "| │    └─(mlp)Sequential     | [1, 10, 1]        | [1, 10, 8]     | 88       |\n",
      "| │    │    └─(0)Linear      | [1, 10, 1]        | [1, 10, 8]     | 16       |\n",
      "| │    │    └─(1)Identity    | [1, 10, 8]        | [1, 10, 8]     | --       |\n",
      "| │    │    └─(2)ELU         | [1, 10, 8]        | [1, 10, 8]     | --       |\n",
      "| │    │    └─(3)Identity    | [1, 10, 8]        | [1, 10, 8]     | --       |\n",
      "| │    │    └─(4)Linear      | [1, 10, 8]        | [1, 10, 8]     | 72       |\n",
      "| │    │    └─(5)Identity    | [1, 10, 8]        | [1, 10, 8]     | --       |\n",
      "| │    │    └─(6)ELU         | [1, 10, 8]        | [1, 10, 8]     | --       |\n",
      "| │    │    └─(7)Identity    | [1, 10, 8]        | [1, 10, 8]     | --       |\n",
      "| ├─(mass)MLP                | [1, 10, 1]        | [1, 10, 8]     | 88       |\n",
      "| │    └─(mlp)Sequential     | [1, 10, 1]        | [1, 10, 8]     | 88       |\n",
      "| │    │    └─(0)Linear      | [1, 10, 1]        | [1, 10, 8]     | 16       |\n",
      "| │    │    └─(1)Identity    | [1, 10, 8]        | [1, 10, 8]     | --       |\n",
      "| │    │    └─(2)ELU         | [1, 10, 8]        | [1, 10, 8]     | --       |\n",
      "| │    │    └─(3)Identity    | [1, 10, 8]        | [1, 10, 8]     | --       |\n",
      "| │    │    └─(4)Linear      | [1, 10, 8]        | [1, 10, 8]     | 72       |\n",
      "| │    │    └─(5)Identity    | [1, 10, 8]        | [1, 10, 8]     | --       |\n",
      "| │    │    └─(6)ELU         | [1, 10, 8]        | [1, 10, 8]     | --       |\n",
      "| │    │    └─(7)Identity    | [1, 10, 8]        | [1, 10, 8]     | --       |\n",
      "| ├─(gamma)MLP               | [1, 10, 1]        | [1, 10, 8]     | 88       |\n",
      "| │    └─(mlp)Sequential     | [1, 10, 1]        | [1, 10, 8]     | 88       |\n",
      "| │    │    └─(0)Linear      | [1, 10, 1]        | [1, 10, 8]     | 16       |\n",
      "| │    │    └─(1)Identity    | [1, 10, 8]        | [1, 10, 8]     | --       |\n",
      "| │    │    └─(2)ELU         | [1, 10, 8]        | [1, 10, 8]     | --       |\n",
      "| │    │    └─(3)Identity    | [1, 10, 8]        | [1, 10, 8]     | --       |\n",
      "| │    │    └─(4)Linear      | [1, 10, 8]        | [1, 10, 8]     | 72       |\n",
      "| │    │    └─(5)Identity    | [1, 10, 8]        | [1, 10, 8]     | --       |\n",
      "| │    │    └─(6)ELU         | [1, 10, 8]        | [1, 10, 8]     | --       |\n",
      "| │    │    └─(7)Identity    | [1, 10, 8]        | [1, 10, 8]     | --       |\n",
      "| ├─(power)MLP               | [1, 10, 1]        | [1, 10, 8]     | 88       |\n",
      "| │    └─(mlp)Sequential     | [1, 10, 1]        | [1, 10, 8]     | 88       |\n",
      "| │    │    └─(0)Linear      | [1, 10, 1]        | [1, 10, 8]     | 16       |\n",
      "| │    │    └─(1)Identity    | [1, 10, 8]        | [1, 10, 8]     | --       |\n",
      "| │    │    └─(2)ELU         | [1, 10, 8]        | [1, 10, 8]     | --       |\n",
      "| │    │    └─(3)Identity    | [1, 10, 8]        | [1, 10, 8]     | --       |\n",
      "| │    │    └─(4)Linear      | [1, 10, 8]        | [1, 10, 8]     | 72       |\n",
      "| │    │    └─(5)Identity    | [1, 10, 8]        | [1, 10, 8]     | --       |\n",
      "| │    │    └─(6)ELU         | [1, 10, 8]        | [1, 10, 8]     | --       |\n",
      "| │    │    └─(7)Identity    | [1, 10, 8]        | [1, 10, 8]     | --       |\n",
      "| ├─(active_ratio)MLP        | [1, 10, 1]        | [1, 10, 8]     | 88       |\n",
      "| │    └─(mlp)Sequential     | [1, 10, 1]        | [1, 10, 8]     | 88       |\n",
      "| │    │    └─(0)Linear      | [1, 10, 1]        | [1, 10, 8]     | 16       |\n",
      "| │    │    └─(1)Identity    | [1, 10, 8]        | [1, 10, 8]     | --       |\n",
      "| │    │    └─(2)ELU         | [1, 10, 8]        | [1, 10, 8]     | --       |\n",
      "| │    │    └─(3)Identity    | [1, 10, 8]        | [1, 10, 8]     | --       |\n",
      "| │    │    └─(4)Linear      | [1, 10, 8]        | [1, 10, 8]     | 72       |\n",
      "| │    │    └─(5)Identity    | [1, 10, 8]        | [1, 10, 8]     | --       |\n",
      "| │    │    └─(6)ELU         | [1, 10, 8]        | [1, 10, 8]     | --       |\n",
      "| │    │    └─(7)Identity    | [1, 10, 8]        | [1, 10, 8]     | --       |\n",
      "| ├─(perturbation)MLP        | [1, 10, 1]        | [1, 10, 8]     | 88       |\n",
      "| │    └─(mlp)Sequential     | [1, 10, 1]        | [1, 10, 8]     | 88       |\n",
      "| │    │    └─(0)Linear      | [1, 10, 1]        | [1, 10, 8]     | 16       |\n",
      "| │    │    └─(1)Identity    | [1, 10, 8]        | [1, 10, 8]     | --       |\n",
      "| │    │    └─(2)ELU         | [1, 10, 8]        | [1, 10, 8]     | --       |\n",
      "| │    │    └─(3)Identity    | [1, 10, 8]        | [1, 10, 8]     | --       |\n",
      "| │    │    └─(4)Linear      | [1, 10, 8]        | [1, 10, 8]     | 72       |\n",
      "| │    │    └─(5)Identity    | [1, 10, 8]        | [1, 10, 8]     | --       |\n",
      "| │    │    └─(6)ELU         | [1, 10, 8]        | [1, 10, 8]     | --       |\n",
      "| │    │    └─(7)Identity    | [1, 10, 8]        | [1, 10, 8]     | --       |\n",
      "| ├─(coupling)MLP            | [1, 22, 1]        | [1, 22, 1]     | 25       |\n",
      "| │    └─(mlp)Sequential     | [1, 22, 1]        | [1, 22, 1]     | 25       |\n",
      "| │    │    └─(0)Linear      | [1, 22, 1]        | [1, 22, 8]     | 16       |\n",
      "| │    │    └─(1)Identity    | [1, 22, 8]        | [1, 22, 8]     | --       |\n",
      "| │    │    └─(2)ELU         | [1, 22, 8]        | [1, 22, 8]     | --       |\n",
      "| │    │    └─(3)Identity    | [1, 22, 8]        | [1, 22, 8]     | --       |\n",
      "| │    │    └─(4)Linear      | [1, 22, 8]        | [1, 22, 1]     | 9        |\n",
      "| │    │    └─(5)Identity    | [1, 22, 1]        | [1, 22, 1]     | --       |\n",
      "| │    │    └─(6)ELU         | [1, 22, 1]        | [1, 22, 1]     | --       |\n",
      "| │    │    └─(7)Identity    | [1, 22, 1]        | [1, 22, 1]     | --       |\n",
      "| ├─(bn_node_encode)Identity | [1, 10, 64]       | [1, 10, 64]    | --       |\n",
      "| ├─(act_node_encode)ELU     | [1, 10, 64]       | [1, 10, 64]    | --       |\n",
      "| ├─(bn_edge_encode)Identity | [1, 22, 1]        | [1, 22, 1]     | --       |\n",
      "| ├─(act_edge_encode)Sigmoid | [1, 22, 1]        | [1, 22, 1]     | --       |\n",
      "| ├─(conv1)GCNConv           | [10, 64], [2, 22] | [10, 64]       | 4,160    |\n",
      "| ├─(conv2)GCNConv           | [10, 64], [2, 22] | [10, 64]       | 4,160    |\n",
      "| ├─(act)ELU                 | [10, 64]          | [10, 64]       | --       |\n",
      "+----------------------------+-------------------+----------------+----------+\n"
     ]
    }
   ],
   "source": [
    "feature_extractor = cast(GraphExtractor, model.policy.features_extractor)\n",
    "obs = {\n",
    "    key: torch.tensor(value, dtype=torch.float32, device=device).unsqueeze(0)\n",
    "    for key, value in env.observe().items()\n",
    "}\n",
    "print(summary(feature_extractor, obs))\n"
   ]
  },
  {
   "cell_type": "code",
   "execution_count": null,
   "metadata": {},
   "outputs": [
    {
     "name": "stderr",
     "output_type": "stream",
     "text": [
      "/pds/pds11/hoyun/swing_rl/SMU_v1/environment/grid.py:472: RuntimeWarning: invalid value encountered in divide\n",
      "  weights /= np.sum(np.abs(weights))\n"
     ]
    },
    {
     "ename": "ValueError",
     "evalue": "probabilities contain NaN",
     "output_type": "error",
     "traceback": [
      "\u001b[0;31m---------------------------------------------------------------------------\u001b[0m",
      "\u001b[0;31mValueError\u001b[0m                                Traceback (most recent call last)",
      "Cell \u001b[0;32mIn[4], line 1\u001b[0m\n\u001b[0;32m----> 1\u001b[0m model\u001b[39m.\u001b[39;49mlearn(total_timesteps\u001b[39m=\u001b[39;49m\u001b[39m1280\u001b[39;49m \u001b[39m*\u001b[39;49m \u001b[39m10\u001b[39;49m)\n",
      "File \u001b[0;32m~/miniconda3/envs/rl/lib/python3.10/site-packages/stable_baselines3/ppo/ppo.py:304\u001b[0m, in \u001b[0;36mPPO.learn\u001b[0;34m(self, total_timesteps, callback, log_interval, tb_log_name, reset_num_timesteps, progress_bar)\u001b[0m\n\u001b[1;32m    295\u001b[0m \u001b[39mdef\u001b[39;00m \u001b[39mlearn\u001b[39m(\n\u001b[1;32m    296\u001b[0m     \u001b[39mself\u001b[39m: SelfPPO,\n\u001b[1;32m    297\u001b[0m     total_timesteps: \u001b[39mint\u001b[39m,\n\u001b[0;32m   (...)\u001b[0m\n\u001b[1;32m    302\u001b[0m     progress_bar: \u001b[39mbool\u001b[39m \u001b[39m=\u001b[39m \u001b[39mFalse\u001b[39;00m,\n\u001b[1;32m    303\u001b[0m ) \u001b[39m-\u001b[39m\u001b[39m>\u001b[39m SelfPPO:\n\u001b[0;32m--> 304\u001b[0m     \u001b[39mreturn\u001b[39;00m \u001b[39msuper\u001b[39;49m()\u001b[39m.\u001b[39;49mlearn(\n\u001b[1;32m    305\u001b[0m         total_timesteps\u001b[39m=\u001b[39;49mtotal_timesteps,\n\u001b[1;32m    306\u001b[0m         callback\u001b[39m=\u001b[39;49mcallback,\n\u001b[1;32m    307\u001b[0m         log_interval\u001b[39m=\u001b[39;49mlog_interval,\n\u001b[1;32m    308\u001b[0m         tb_log_name\u001b[39m=\u001b[39;49mtb_log_name,\n\u001b[1;32m    309\u001b[0m         reset_num_timesteps\u001b[39m=\u001b[39;49mreset_num_timesteps,\n\u001b[1;32m    310\u001b[0m         progress_bar\u001b[39m=\u001b[39;49mprogress_bar,\n\u001b[1;32m    311\u001b[0m     )\n",
      "File \u001b[0;32m~/miniconda3/envs/rl/lib/python3.10/site-packages/stable_baselines3/common/on_policy_algorithm.py:246\u001b[0m, in \u001b[0;36mOnPolicyAlgorithm.learn\u001b[0;34m(self, total_timesteps, callback, log_interval, tb_log_name, reset_num_timesteps, progress_bar)\u001b[0m\n\u001b[1;32m    243\u001b[0m callback\u001b[39m.\u001b[39mon_training_start(\u001b[39mlocals\u001b[39m(), \u001b[39mglobals\u001b[39m())\n\u001b[1;32m    245\u001b[0m \u001b[39mwhile\u001b[39;00m \u001b[39mself\u001b[39m\u001b[39m.\u001b[39mnum_timesteps \u001b[39m<\u001b[39m total_timesteps:\n\u001b[0;32m--> 246\u001b[0m     continue_training \u001b[39m=\u001b[39m \u001b[39mself\u001b[39;49m\u001b[39m.\u001b[39;49mcollect_rollouts(\u001b[39mself\u001b[39;49m\u001b[39m.\u001b[39;49menv, callback, \u001b[39mself\u001b[39;49m\u001b[39m.\u001b[39;49mrollout_buffer, n_rollout_steps\u001b[39m=\u001b[39;49m\u001b[39mself\u001b[39;49m\u001b[39m.\u001b[39;49mn_steps)\n\u001b[1;32m    248\u001b[0m     \u001b[39mif\u001b[39;00m continue_training \u001b[39mis\u001b[39;00m \u001b[39mFalse\u001b[39;00m:\n\u001b[1;32m    249\u001b[0m         \u001b[39mbreak\u001b[39;00m\n",
      "File \u001b[0;32m~/miniconda3/envs/rl/lib/python3.10/site-packages/stable_baselines3/common/on_policy_algorithm.py:174\u001b[0m, in \u001b[0;36mOnPolicyAlgorithm.collect_rollouts\u001b[0;34m(self, env, callback, rollout_buffer, n_rollout_steps)\u001b[0m\n\u001b[1;32m    171\u001b[0m \u001b[39mif\u001b[39;00m \u001b[39misinstance\u001b[39m(\u001b[39mself\u001b[39m\u001b[39m.\u001b[39maction_space, spaces\u001b[39m.\u001b[39mBox):\n\u001b[1;32m    172\u001b[0m     clipped_actions \u001b[39m=\u001b[39m np\u001b[39m.\u001b[39mclip(actions, \u001b[39mself\u001b[39m\u001b[39m.\u001b[39maction_space\u001b[39m.\u001b[39mlow, \u001b[39mself\u001b[39m\u001b[39m.\u001b[39maction_space\u001b[39m.\u001b[39mhigh)\n\u001b[0;32m--> 174\u001b[0m new_obs, rewards, dones, infos \u001b[39m=\u001b[39m env\u001b[39m.\u001b[39;49mstep(clipped_actions)\n\u001b[1;32m    176\u001b[0m \u001b[39mself\u001b[39m\u001b[39m.\u001b[39mnum_timesteps \u001b[39m+\u001b[39m\u001b[39m=\u001b[39m env\u001b[39m.\u001b[39mnum_envs\n\u001b[1;32m    178\u001b[0m \u001b[39m# Give access to local variables\u001b[39;00m\n",
      "File \u001b[0;32m~/miniconda3/envs/rl/lib/python3.10/site-packages/stable_baselines3/common/vec_env/base_vec_env.py:171\u001b[0m, in \u001b[0;36mVecEnv.step\u001b[0;34m(self, actions)\u001b[0m\n\u001b[1;32m    164\u001b[0m \u001b[39m\u001b[39m\u001b[39m\"\"\"\u001b[39;00m\n\u001b[1;32m    165\u001b[0m \u001b[39mStep the environments with the given action\u001b[39;00m\n\u001b[1;32m    166\u001b[0m \n\u001b[1;32m    167\u001b[0m \u001b[39m:param actions: the action\u001b[39;00m\n\u001b[1;32m    168\u001b[0m \u001b[39m:return: observation, reward, done, information\u001b[39;00m\n\u001b[1;32m    169\u001b[0m \u001b[39m\"\"\"\u001b[39;00m\n\u001b[1;32m    170\u001b[0m \u001b[39mself\u001b[39m\u001b[39m.\u001b[39mstep_async(actions)\n\u001b[0;32m--> 171\u001b[0m \u001b[39mreturn\u001b[39;00m \u001b[39mself\u001b[39;49m\u001b[39m.\u001b[39;49mstep_wait()\n",
      "File \u001b[0;32m~/miniconda3/envs/rl/lib/python3.10/site-packages/stable_baselines3/common/vec_env/dummy_vec_env.py:57\u001b[0m, in \u001b[0;36mDummyVecEnv.step_wait\u001b[0;34m(self)\u001b[0m\n\u001b[1;32m     54\u001b[0m \u001b[39mdef\u001b[39;00m \u001b[39mstep_wait\u001b[39m(\u001b[39mself\u001b[39m) \u001b[39m-\u001b[39m\u001b[39m>\u001b[39m VecEnvStepReturn:\n\u001b[1;32m     55\u001b[0m     \u001b[39m# Avoid circular imports\u001b[39;00m\n\u001b[1;32m     56\u001b[0m     \u001b[39mfor\u001b[39;00m env_idx \u001b[39min\u001b[39;00m \u001b[39mrange\u001b[39m(\u001b[39mself\u001b[39m\u001b[39m.\u001b[39mnum_envs):\n\u001b[0;32m---> 57\u001b[0m         obs, \u001b[39mself\u001b[39m\u001b[39m.\u001b[39mbuf_rews[env_idx], terminated, truncated, \u001b[39mself\u001b[39m\u001b[39m.\u001b[39mbuf_infos[env_idx] \u001b[39m=\u001b[39m \u001b[39mself\u001b[39;49m\u001b[39m.\u001b[39;49menvs[env_idx]\u001b[39m.\u001b[39;49mstep(\n\u001b[1;32m     58\u001b[0m             \u001b[39mself\u001b[39;49m\u001b[39m.\u001b[39;49mactions[env_idx]\n\u001b[1;32m     59\u001b[0m         )\n\u001b[1;32m     60\u001b[0m         \u001b[39m# convert to SB3 VecEnv api\u001b[39;00m\n\u001b[1;32m     61\u001b[0m         \u001b[39mself\u001b[39m\u001b[39m.\u001b[39mbuf_dones[env_idx] \u001b[39m=\u001b[39m terminated \u001b[39mor\u001b[39;00m truncated\n",
      "File \u001b[0;32m~/miniconda3/envs/rl/lib/python3.10/site-packages/stable_baselines3/common/monitor.py:94\u001b[0m, in \u001b[0;36mMonitor.step\u001b[0;34m(self, action)\u001b[0m\n\u001b[1;32m     92\u001b[0m \u001b[39mif\u001b[39;00m \u001b[39mself\u001b[39m\u001b[39m.\u001b[39mneeds_reset:\n\u001b[1;32m     93\u001b[0m     \u001b[39mraise\u001b[39;00m \u001b[39mRuntimeError\u001b[39;00m(\u001b[39m\"\u001b[39m\u001b[39mTried to step environment that needs reset\u001b[39m\u001b[39m\"\u001b[39m)\n\u001b[0;32m---> 94\u001b[0m observation, reward, terminated, truncated, info \u001b[39m=\u001b[39m \u001b[39mself\u001b[39;49m\u001b[39m.\u001b[39;49menv\u001b[39m.\u001b[39;49mstep(action)\n\u001b[1;32m     95\u001b[0m \u001b[39mself\u001b[39m\u001b[39m.\u001b[39mrewards\u001b[39m.\u001b[39mappend(\u001b[39mfloat\u001b[39m(reward))\n\u001b[1;32m     96\u001b[0m \u001b[39mif\u001b[39;00m terminated \u001b[39mor\u001b[39;00m truncated:\n",
      "File \u001b[0;32m~/swing_rl/SMU_v1/environment/environment.py:141\u001b[0m, in \u001b[0;36mEnvironment.step\u001b[0;34m(self, action)\u001b[0m\n\u001b[1;32m    138\u001b[0m action \u001b[39m*\u001b[39m\u001b[39m=\u001b[39m \u001b[39mself\u001b[39m\u001b[39m.\u001b[39mgrid\u001b[39m.\u001b[39mis_generator \u001b[39m+\u001b[39m \u001b[39mself\u001b[39m\u001b[39m.\u001b[39mgrid\u001b[39m.\u001b[39mis_controllable_consumer\n\u001b[1;32m    140\u001b[0m \u001b[39m# Rebalance power\u001b[39;00m\n\u001b[0;32m--> 141\u001b[0m balanced \u001b[39m=\u001b[39m \u001b[39mself\u001b[39;49m\u001b[39m.\u001b[39;49mrebalance(action)\n\u001b[1;32m    142\u001b[0m \u001b[39mif\u001b[39;00m \u001b[39mnot\u001b[39;00m balanced:\n\u001b[1;32m    143\u001b[0m     \u001b[39mreturn\u001b[39;00m (\n\u001b[1;32m    144\u001b[0m         \u001b[39mself\u001b[39m\u001b[39m.\u001b[39mobserve(),\n\u001b[1;32m    145\u001b[0m         reward_failed(\u001b[39mself\u001b[39m\u001b[39m.\u001b[39mgrid\u001b[39m.\u001b[39mnum_nodes, SWING_CONFIG\u001b[39m.\u001b[39m_dt),\n\u001b[0;32m   (...)\u001b[0m\n\u001b[1;32m    148\u001b[0m         {},\n\u001b[1;32m    149\u001b[0m     )\n",
      "File \u001b[0;32m~/swing_rl/SMU_v1/environment/grid.py:476\u001b[0m, in \u001b[0;36mGrid.rebalance_directed\u001b[0;34m(self, weights, max_trial)\u001b[0m\n\u001b[1;32m    472\u001b[0m weights \u001b[39m/\u001b[39m\u001b[39m=\u001b[39m np\u001b[39m.\u001b[39msum(np\u001b[39m.\u001b[39mabs(weights))\n\u001b[1;32m    475\u001b[0m \u001b[39mfor\u001b[39;00m _ \u001b[39min\u001b[39;00m \u001b[39mrange\u001b[39m(max_trial \u001b[39m+\u001b[39m \u001b[39m1\u001b[39m):\n\u001b[0;32m--> 476\u001b[0m     random_idx \u001b[39m=\u001b[39m \u001b[39mself\u001b[39;49m\u001b[39m.\u001b[39;49mrng\u001b[39m.\u001b[39;49mchoice(\u001b[39mself\u001b[39;49m\u001b[39m.\u001b[39;49mnum_nodes, p\u001b[39m=\u001b[39;49mnp\u001b[39m.\u001b[39;49mabs(weights))\n\u001b[1;32m    477\u001b[0m     node, weight \u001b[39m=\u001b[39m \u001b[39mself\u001b[39m\u001b[39m.\u001b[39mnodes[random_idx], weights[random_idx]\n\u001b[1;32m    479\u001b[0m     \u001b[39m# Increase active units if weight is positive, decrease otherwise\u001b[39;00m\n",
      "File \u001b[0;32m_generator.pyx:743\u001b[0m, in \u001b[0;36mnumpy.random._generator.Generator.choice\u001b[0;34m()\u001b[0m\n",
      "\u001b[0;31mValueError\u001b[0m: probabilities contain NaN"
     ]
    }
   ],
   "source": [
    "model.learn(total_timesteps=1280 * 10)\n"
   ]
  },
  {
   "cell_type": "code",
   "execution_count": null,
   "metadata": {},
   "outputs": [],
   "source": []
  }
 ],
 "metadata": {
  "kernelspec": {
   "display_name": "rl",
   "language": "python",
   "name": "python3"
  },
  "language_info": {
   "codemirror_mode": {
    "name": "ipython",
    "version": 3
   },
   "file_extension": ".py",
   "mimetype": "text/x-python",
   "name": "python",
   "nbconvert_exporter": "python",
   "pygments_lexer": "ipython3",
   "version": "3.10.10"
  },
  "orig_nbformat": 4
 },
 "nbformat": 4,
 "nbformat_minor": 2
}
